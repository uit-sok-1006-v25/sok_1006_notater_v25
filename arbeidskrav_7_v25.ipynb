{
 "cells": [
  {
   "cell_type": "markdown",
   "id": "f0de708c-a78c-45a9-b40a-777b5ed44493",
   "metadata": {},
   "source": [
    "# SOK-1006 V25\n",
    "## Arbeidskrav 7 - Detaljhandel i Norge: Estimering av en tilbudsfunksjon\n",
    "\n",
    "Tilpasset fra mappeoppgave 2 v24.\n",
    "\n"
   ]
  },
  {
   "cell_type": "markdown",
   "id": "3e4c25bf",
   "metadata": {},
   "source": [
    "## Bakgrunn\n",
    "\n",
    "I arbiedskrav 6 har dere estimert en produktfunksjon for detaljhandel i Norge basert på data i 2022. Nå skal disse resultatene brukes til å estimere en tilbudsfunksjon for en bedrift i denne bransjen. (Dersom du ikke gjorde arbeidskrav 6, kan du bruke egne tall for Z, a, b. Pass på at $a+b \\leq 1$.)"
   ]
  },
  {
   "cell_type": "markdown",
   "id": "d5a2dd03-7cb8-4579-8993-22363e2f9cb6",
   "metadata": {},
   "source": [
    "### Oppgave - Tilbud til en gjennomsnittlig bedrift\n",
    "\n",
    "\n",
    "Butikken \"Helt midt på treet\" er en ganske *gjennomsnittlig* bedrift i en bransje i detaljhandelen. I denne sammenhengen betyr gjennomsnittlig følgende:       \n",
    "\n",
    "- $Z, a, b$ som du fant i arbeidskrav 6 beskriver produktfunksjonen til bedriften.\n",
    "- Én timeslønn i denne bedriften tilsvarer gjennomsnittet for detaljhandelen.\n",
    "- På kort sikt har bedriften kapitalutgifter som tilsvarer gjennomsnittet for detaljhandelen.\n",
    "\n",
    "I praksis betyr dette at du kan bruke dine estimat på $Z, a, b$ (ta 2 desimalplasser) som bedriftens produktfunksjon i (1), at timelønna er 287 kr i 2022, og at kapitalutgiften er gjennomsnittet av det som du har i datasettet (som du må finne). (Tabell 11421, SSB gir gjennomsnittlig månedslønn i 2022 for en ansatt i gruppe 47 Detaljhandel som 41 290 kr. SSB sier videre at en ansatt i full stilling arbeider 230 dager i året, som utgjør 19.2 dager i snitt pr måned, eller (19.2*7.5=) 144 timer pr måned).          \n",
    "\n",
    "Vi går ut fra at \"Helt midt på treet\" har følgende produktfunksjon:\n",
    "\n",
    "\n",
    "\\begin{equation}\n",
    "   y = ZL^aK_0^{b}\\;\\;(2)\n",
    "\\end{equation}\n",
    "\n",
    "Her er $y$ *antall enheter produsert*, $L$ *antall timer arbeidskraft*, mens $K_0$ er kapitalutgiften til bedriften i mill. NOK. (Legg merke til at vi nå blander fysiske og monetære enheter).          \n",
    "\n",
    "i) Skriv et uttrykk for bedriftens variable kostnader og totale kostnader på kort sikt som en funksjon av mengde produsert ($y$). (Som vi har sett før har Sympy problemer med å løse ligninger av formen $Y=\\alpha X^\\beta$ for $X$. Dette kan vi løse selv som $X=(\\frac{Y}{\\alpha})^{\\frac{1}{\\beta}}$).       \n",
    "\n",
    "ii) Finn uttrykk for bedriftens grensekostnad og gjennomsnittskostnad (total og variabel).        \n",
    "\n",
    "iii) Bruk ditt svar til ii) for å tegne bedriftens tilbudskurve i en figur. Forklar figuren nøye.        \n",
    "\n",
    "iv) Anta at lønnsoppgjøret gir arbeidere i \"Helt midt på treet\" en lønnsøkning på 5%. Vis hvordan dette påvirker bedriftens tilbud, og forklar intuisjonen bak endringen.\n",
    "\n"
   ]
  }
 ],
 "metadata": {
  "kernelspec": {
   "display_name": "Python 3",
   "language": "python",
   "name": "python3"
  },
  "language_info": {
   "codemirror_mode": {
    "name": "ipython",
    "version": 3
   },
   "file_extension": ".py",
   "mimetype": "text/x-python",
   "name": "python",
   "nbconvert_exporter": "python",
   "pygments_lexer": "ipython3",
   "version": "3.12.2"
  }
 },
 "nbformat": 4,
 "nbformat_minor": 5
}
